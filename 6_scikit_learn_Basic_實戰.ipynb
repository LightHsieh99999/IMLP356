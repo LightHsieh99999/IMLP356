{
 "cells": [
  {
   "cell_type": "markdown",
   "metadata": {},
   "source": [
    "# 使用Scikit-Learn 完成預測\n",
    "### Scikit-Learn在三個面向提供支援。\n",
    "1. 獲取資料:***klearn.datasets***\n",
    "2. 掌握資料:***sklearn.preprocessing*** \n",
    "3. 機器學習:***sklearn Estimator API*** \n",
    "\n",
    "獲取資料的方式有很多種（包含檔案、資料庫、網路爬蟲、Kaggle Datasets等），<br>\n",
    "其中最簡單的方式是從Sklearn import 內建的資料庫。由於其特性隨手可得且不用下載，所以我們通常叫他**玩具資料**：\n",
    "\n",
    "# 基本架構\n",
    "\n",
    "* 讀取資料&pre-processing\n",
    "* 切分訓練集與測試集 \n",
    "* 模型配適\n",
    "* 預測 \n",
    "* 評估(計算成績可能是誤差值或正確率或..)\n"
   ]
  },
  {
   "cell_type": "code",
   "execution_count": 1,
   "metadata": {
    "scrolled": true
   },
   "outputs": [],
   "source": [
    "%matplotlib inline\n",
    "\n",
    "from sklearn import datasets\n",
    "import pandas as pd\n",
    "import numpy as np\n",
    "import matplotlib.pyplot as plt\n",
    "import seaborn as sns\n"
   ]
  },
  {
   "cell_type": "markdown",
   "metadata": {},
   "source": [
    "## 讀取Iris資料集與資料前處理\n",
    "\n",
    "Iris Flowers 資料集\n",
    "\n",
    "我們在這個項目中使用 Iris Data Set，這個資料集中的每個樣本有4個特徵，1個類別。該資料集1中的樣本類別數為3類，每類樣本數目為50個，總共150個樣本。\n",
    "\n",
    "屬性資訊：\n",
    "\n",
    "    花萼長度 sepal length(cm)\n",
    "    花萼寬度 sepal width(cm)\n",
    "    花瓣長度 petal length(cm)\n",
    "    花瓣寬度 petal width(cm)\n",
    "    類別：\n",
    "        Iris Setosa\n",
    "        Iris Versicolour\n",
    "        Iris Virginica\n",
    "\n",
    "樣本特徵資料是數值型的，而且單位都相同（釐米）。\n",
    "\n",
    "![Iris Flowers](images/iris_data.PNG)\n"
   ]
  },
  {
   "cell_type": "code",
   "execution_count": 2,
   "metadata": {},
   "outputs": [
    {
     "name": "stdout",
     "output_type": "stream",
     "text": [
      ".. _iris_dataset:\n",
      "\n",
      "Iris plants dataset\n",
      "--------------------\n",
      "\n",
      "**Data Set Characteristics:**\n",
      "\n",
      "    :Number of Instances: 150 (50 in each of three classes)\n",
      "    :Number of Attributes: 4 numeric, predictive attributes and the class\n",
      "    :Attribute Information:\n",
      "        - sepal length in cm\n",
      "        - sepal width in cm\n",
      "        - petal length in cm\n",
      "        - petal width in cm\n",
      "        - class:\n",
      "                - Iris-Setosa\n",
      "                - Iris-Versicolour\n",
      "                - Iris-Virginica\n",
      "                \n",
      "    :Summary Statistics:\n",
      "\n",
      "    ============== ==== ==== ======= ===== ====================\n",
      "                    Min  Max   Mean    SD   Class Correlation\n",
      "    ============== ==== ==== ======= ===== ====================\n",
      "    sepal length:   4.3  7.9   5.84   0.83    0.7826\n",
      "    sepal width:    2.0  4.4   3.05   0.43   -0.4194\n",
      "    petal length:   1.0  6.9   3.76   1.76    0.9490  (high!)\n",
      "    petal width:    0.1  2.5   1.20   0.76    0.9565  (high!)\n",
      "    ============== ==== ==== ======= ===== ====================\n",
      "\n",
      "    :Missing Attribute Values: None\n",
      "    :Class Distribution: 33.3% for each of 3 classes.\n",
      "    :Creator: R.A. Fisher\n",
      "    :Donor: Michael Marshall (MARSHALL%PLU@io.arc.nasa.gov)\n",
      "    :Date: July, 1988\n",
      "\n",
      "The famous Iris database, first used by Sir R.A. Fisher. The dataset is taken\n",
      "from Fisher's paper. Note that it's the same as in R, but not as in the UCI\n",
      "Machine Learning Repository, which has two wrong data points.\n",
      "\n",
      "This is perhaps the best known database to be found in the\n",
      "pattern recognition literature.  Fisher's paper is a classic in the field and\n",
      "is referenced frequently to this day.  (See Duda & Hart, for example.)  The\n",
      "data set contains 3 classes of 50 instances each, where each class refers to a\n",
      "type of iris plant.  One class is linearly separable from the other 2; the\n",
      "latter are NOT linearly separable from each other.\n",
      "\n",
      ".. topic:: References\n",
      "\n",
      "   - Fisher, R.A. \"The use of multiple measurements in taxonomic problems\"\n",
      "     Annual Eugenics, 7, Part II, 179-188 (1936); also in \"Contributions to\n",
      "     Mathematical Statistics\" (John Wiley, NY, 1950).\n",
      "   - Duda, R.O., & Hart, P.E. (1973) Pattern Classification and Scene Analysis.\n",
      "     (Q327.D83) John Wiley & Sons.  ISBN 0-471-22361-1.  See page 218.\n",
      "   - Dasarathy, B.V. (1980) \"Nosing Around the Neighborhood: A New System\n",
      "     Structure and Classification Rule for Recognition in Partially Exposed\n",
      "     Environments\".  IEEE Transactions on Pattern Analysis and Machine\n",
      "     Intelligence, Vol. PAMI-2, No. 1, 67-71.\n",
      "   - Gates, G.W. (1972) \"The Reduced Nearest Neighbor Rule\".  IEEE Transactions\n",
      "     on Information Theory, May 1972, 431-433.\n",
      "   - See also: 1988 MLC Proceedings, 54-64.  Cheeseman et al\"s AUTOCLASS II\n",
      "     conceptual clustering system finds 3 classes in the data.\n",
      "   - Many, many more ...\n"
     ]
    }
   ],
   "source": [
    "iris = datasets.load_iris()\n",
    "print(iris.DESCR)"
   ]
  },
  {
   "cell_type": "markdown",
   "metadata": {},
   "source": [
    "* 印出iris的key值與檔案位置\n",
    "* 查看前10筆資料\n",
    "* 查看資料型別\n",
    "* 印出標註的樣本類別資料"
   ]
  },
  {
   "cell_type": "code",
   "execution_count": 14,
   "metadata": {},
   "outputs": [
    {
     "name": "stdout",
     "output_type": "stream",
     "text": [
      "dict_keys(['data', 'target', 'frame', 'target_names', 'DESCR', 'feature_names', 'filename', 'data_module'])\n",
      "[[5.1 3.5 1.4 0.2]\n",
      " [4.9 3.  1.4 0.2]\n",
      " [4.7 3.2 1.3 0.2]\n",
      " [4.6 3.1 1.5 0.2]\n",
      " [5.  3.6 1.4 0.2]\n",
      " [5.4 3.9 1.7 0.4]\n",
      " [4.6 3.4 1.4 0.3]\n",
      " [5.  3.4 1.5 0.2]\n",
      " [4.4 2.9 1.4 0.2]\n",
      " [4.9 3.1 1.5 0.1]]\n",
      "<class 'numpy.ndarray'>\n",
      "['setosa' 'versicolor' 'virginica']\n",
      "[0 0 0 0 0 0 0 0 0 0 0 0 0 0 0 0 0 0 0 0 0 0 0 0 0 0 0 0 0 0 0 0 0 0 0 0 0\n",
      " 0 0 0 0 0 0 0 0 0 0 0 0 0 1 1 1 1 1 1 1 1 1 1 1 1 1 1 1 1 1 1 1 1 1 1 1 1\n",
      " 1 1 1 1 1 1 1 1 1 1 1 1 1 1 1 1 1 1 1 1 1 1 1 1 1 1 2 2 2 2 2 2 2 2 2 2 2\n",
      " 2 2 2 2 2 2 2 2 2 2 2 2 2 2 2 2 2 2 2 2 2 2 2 2 2 2 2 2 2 2 2 2 2 2 2 2 2\n",
      " 2 2]\n"
     ]
    },
    {
     "data": {
      "text/plain": [
       "['sepal length (cm)',\n",
       " 'sepal width (cm)',\n",
       " 'petal length (cm)',\n",
       " 'petal width (cm)']"
      ]
     },
     "execution_count": 14,
     "metadata": {},
     "output_type": "execute_result"
    }
   ],
   "source": [
    "print(iris.keys())\n",
    "\n",
    "print(iris.data[0:10])\n",
    "\n",
    "print(type(iris.data))\n",
    "\n",
    "print(iris.target_names)\n",
    "\n",
    "print(iris.target)\n",
    "\n",
    "#iris['feature_names']"
   ]
  },
  {
   "cell_type": "code",
   "execution_count": 12,
   "metadata": {},
   "outputs": [
    {
     "name": "stdout",
     "output_type": "stream",
     "text": [
      "(150, 2)\n",
      "(150,)\n"
     ]
    }
   ],
   "source": [
    "# we only take the first two features.\n",
    "X=iris.data[:,:2]\n",
    "print(X.shape)\n",
    "Y=iris.target\n",
    "print(Y.shape)"
   ]
  },
  {
   "cell_type": "code",
   "execution_count": 13,
   "metadata": {},
   "outputs": [
    {
     "data": {
      "text/html": [
       "<div>\n",
       "<style scoped>\n",
       "    .dataframe tbody tr th:only-of-type {\n",
       "        vertical-align: middle;\n",
       "    }\n",
       "\n",
       "    .dataframe tbody tr th {\n",
       "        vertical-align: top;\n",
       "    }\n",
       "\n",
       "    .dataframe thead th {\n",
       "        text-align: right;\n",
       "    }\n",
       "</style>\n",
       "<table border=\"1\" class=\"dataframe\">\n",
       "  <thead>\n",
       "    <tr style=\"text-align: right;\">\n",
       "      <th></th>\n",
       "      <th>sepal length (cm)</th>\n",
       "      <th>sepal width (cm)</th>\n",
       "      <th>petal length (cm)</th>\n",
       "      <th>petal width (cm)</th>\n",
       "    </tr>\n",
       "  </thead>\n",
       "  <tbody>\n",
       "    <tr>\n",
       "      <th>0</th>\n",
       "      <td>5.1</td>\n",
       "      <td>3.5</td>\n",
       "      <td>1.4</td>\n",
       "      <td>0.2</td>\n",
       "    </tr>\n",
       "    <tr>\n",
       "      <th>1</th>\n",
       "      <td>4.9</td>\n",
       "      <td>3.0</td>\n",
       "      <td>1.4</td>\n",
       "      <td>0.2</td>\n",
       "    </tr>\n",
       "    <tr>\n",
       "      <th>2</th>\n",
       "      <td>4.7</td>\n",
       "      <td>3.2</td>\n",
       "      <td>1.3</td>\n",
       "      <td>0.2</td>\n",
       "    </tr>\n",
       "    <tr>\n",
       "      <th>3</th>\n",
       "      <td>4.6</td>\n",
       "      <td>3.1</td>\n",
       "      <td>1.5</td>\n",
       "      <td>0.2</td>\n",
       "    </tr>\n",
       "    <tr>\n",
       "      <th>4</th>\n",
       "      <td>5.0</td>\n",
       "      <td>3.6</td>\n",
       "      <td>1.4</td>\n",
       "      <td>0.2</td>\n",
       "    </tr>\n",
       "    <tr>\n",
       "      <th>5</th>\n",
       "      <td>5.4</td>\n",
       "      <td>3.9</td>\n",
       "      <td>1.7</td>\n",
       "      <td>0.4</td>\n",
       "    </tr>\n",
       "    <tr>\n",
       "      <th>6</th>\n",
       "      <td>4.6</td>\n",
       "      <td>3.4</td>\n",
       "      <td>1.4</td>\n",
       "      <td>0.3</td>\n",
       "    </tr>\n",
       "    <tr>\n",
       "      <th>7</th>\n",
       "      <td>5.0</td>\n",
       "      <td>3.4</td>\n",
       "      <td>1.5</td>\n",
       "      <td>0.2</td>\n",
       "    </tr>\n",
       "    <tr>\n",
       "      <th>8</th>\n",
       "      <td>4.4</td>\n",
       "      <td>2.9</td>\n",
       "      <td>1.4</td>\n",
       "      <td>0.2</td>\n",
       "    </tr>\n",
       "    <tr>\n",
       "      <th>9</th>\n",
       "      <td>4.9</td>\n",
       "      <td>3.1</td>\n",
       "      <td>1.5</td>\n",
       "      <td>0.1</td>\n",
       "    </tr>\n",
       "  </tbody>\n",
       "</table>\n",
       "</div>"
      ],
      "text/plain": [
       "   sepal length (cm)  sepal width (cm)  petal length (cm)  petal width (cm)\n",
       "0                5.1               3.5                1.4               0.2\n",
       "1                4.9               3.0                1.4               0.2\n",
       "2                4.7               3.2                1.3               0.2\n",
       "3                4.6               3.1                1.5               0.2\n",
       "4                5.0               3.6                1.4               0.2\n",
       "5                5.4               3.9                1.7               0.4\n",
       "6                4.6               3.4                1.4               0.3\n",
       "7                5.0               3.4                1.5               0.2\n",
       "8                4.4               2.9                1.4               0.2\n",
       "9                4.9               3.1                1.5               0.1"
      ]
     },
     "execution_count": 13,
     "metadata": {},
     "output_type": "execute_result"
    }
   ],
   "source": [
    "#以下是組成 pandas DataFrame (也可以不用這種做)\n",
    "x = pd.DataFrame(iris.data, columns=iris['feature_names'])\n",
    "x.head(10)"
   ]
  },
  {
   "cell_type": "code",
   "execution_count": 16,
   "metadata": {},
   "outputs": [
    {
     "name": "stdout",
     "output_type": "stream",
     "text": [
      "target_names:['setosa' 'versicolor' 'virginica']\n"
     ]
    }
   ],
   "source": [
    "print('target_names:'+str(iris['target_names']))"
   ]
  },
  {
   "cell_type": "code",
   "execution_count": 17,
   "metadata": {},
   "outputs": [
    {
     "data": {
      "text/html": [
       "<div>\n",
       "<style scoped>\n",
       "    .dataframe tbody tr th:only-of-type {\n",
       "        vertical-align: middle;\n",
       "    }\n",
       "\n",
       "    .dataframe tbody tr th {\n",
       "        vertical-align: top;\n",
       "    }\n",
       "\n",
       "    .dataframe thead th {\n",
       "        text-align: right;\n",
       "    }\n",
       "</style>\n",
       "<table border=\"1\" class=\"dataframe\">\n",
       "  <thead>\n",
       "    <tr style=\"text-align: right;\">\n",
       "      <th></th>\n",
       "      <th>target</th>\n",
       "    </tr>\n",
       "  </thead>\n",
       "  <tbody>\n",
       "    <tr>\n",
       "      <th>0</th>\n",
       "      <td>0</td>\n",
       "    </tr>\n",
       "    <tr>\n",
       "      <th>1</th>\n",
       "      <td>0</td>\n",
       "    </tr>\n",
       "    <tr>\n",
       "      <th>2</th>\n",
       "      <td>0</td>\n",
       "    </tr>\n",
       "    <tr>\n",
       "      <th>3</th>\n",
       "      <td>0</td>\n",
       "    </tr>\n",
       "    <tr>\n",
       "      <th>4</th>\n",
       "      <td>0</td>\n",
       "    </tr>\n",
       "  </tbody>\n",
       "</table>\n",
       "</div>"
      ],
      "text/plain": [
       "   target\n",
       "0       0\n",
       "1       0\n",
       "2       0\n",
       "3       0\n",
       "4       0"
      ]
     },
     "execution_count": 17,
     "metadata": {},
     "output_type": "execute_result"
    }
   ],
   "source": [
    "#建立Target欄位與資料\n",
    "y = pd.DataFrame(iris['target'], columns=['target'])\n",
    "y.head()"
   ]
  },
  {
   "cell_type": "code",
   "execution_count": 20,
   "metadata": {},
   "outputs": [
    {
     "data": {
      "text/html": [
       "<div>\n",
       "<style scoped>\n",
       "    .dataframe tbody tr th:only-of-type {\n",
       "        vertical-align: middle;\n",
       "    }\n",
       "\n",
       "    .dataframe tbody tr th {\n",
       "        vertical-align: top;\n",
       "    }\n",
       "\n",
       "    .dataframe thead th {\n",
       "        text-align: right;\n",
       "    }\n",
       "</style>\n",
       "<table border=\"1\" class=\"dataframe\">\n",
       "  <thead>\n",
       "    <tr style=\"text-align: right;\">\n",
       "      <th></th>\n",
       "      <th>sepal length (cm)</th>\n",
       "      <th>petal length (cm)</th>\n",
       "      <th>target</th>\n",
       "    </tr>\n",
       "  </thead>\n",
       "  <tbody>\n",
       "    <tr>\n",
       "      <th>0</th>\n",
       "      <td>5.1</td>\n",
       "      <td>1.4</td>\n",
       "      <td>0</td>\n",
       "    </tr>\n",
       "    <tr>\n",
       "      <th>1</th>\n",
       "      <td>4.9</td>\n",
       "      <td>1.4</td>\n",
       "      <td>0</td>\n",
       "    </tr>\n",
       "    <tr>\n",
       "      <th>2</th>\n",
       "      <td>4.7</td>\n",
       "      <td>1.3</td>\n",
       "      <td>0</td>\n",
       "    </tr>\n",
       "    <tr>\n",
       "      <th>3</th>\n",
       "      <td>4.6</td>\n",
       "      <td>1.5</td>\n",
       "      <td>0</td>\n",
       "    </tr>\n",
       "    <tr>\n",
       "      <th>4</th>\n",
       "      <td>5.0</td>\n",
       "      <td>1.4</td>\n",
       "      <td>0</td>\n",
       "    </tr>\n",
       "    <tr>\n",
       "      <th>5</th>\n",
       "      <td>5.4</td>\n",
       "      <td>1.7</td>\n",
       "      <td>0</td>\n",
       "    </tr>\n",
       "    <tr>\n",
       "      <th>6</th>\n",
       "      <td>4.6</td>\n",
       "      <td>1.4</td>\n",
       "      <td>0</td>\n",
       "    </tr>\n",
       "    <tr>\n",
       "      <th>7</th>\n",
       "      <td>5.0</td>\n",
       "      <td>1.5</td>\n",
       "      <td>0</td>\n",
       "    </tr>\n",
       "    <tr>\n",
       "      <th>8</th>\n",
       "      <td>4.4</td>\n",
       "      <td>1.4</td>\n",
       "      <td>0</td>\n",
       "    </tr>\n",
       "    <tr>\n",
       "      <th>9</th>\n",
       "      <td>4.9</td>\n",
       "      <td>1.5</td>\n",
       "      <td>0</td>\n",
       "    </tr>\n",
       "  </tbody>\n",
       "</table>\n",
       "</div>"
      ],
      "text/plain": [
       "   sepal length (cm)  petal length (cm)  target\n",
       "0                5.1                1.4       0\n",
       "1                4.9                1.4       0\n",
       "2                4.7                1.3       0\n",
       "3                4.6                1.5       0\n",
       "4                5.0                1.4       0\n",
       "5                5.4                1.7       0\n",
       "6                4.6                1.4       0\n",
       "7                5.0                1.5       0\n",
       "8                4.4                1.4       0\n",
       "9                4.9                1.5       0"
      ]
     },
     "execution_count": 20,
     "metadata": {},
     "output_type": "execute_result"
    }
   ],
   "source": [
    "#合併資料特徵欄位與目標欄位\n",
    "iris_data=pd.concat([x,y],axis=1)\n",
    "iris_data=iris_data[['sepal length (cm)','petal length (cm)','target']]\n",
    "iris_data.head(10)"
   ]
  },
  {
   "cell_type": "code",
   "execution_count": 23,
   "metadata": {},
   "outputs": [
    {
     "data": {
      "text/html": [
       "<div>\n",
       "<style scoped>\n",
       "    .dataframe tbody tr th:only-of-type {\n",
       "        vertical-align: middle;\n",
       "    }\n",
       "\n",
       "    .dataframe tbody tr th {\n",
       "        vertical-align: top;\n",
       "    }\n",
       "\n",
       "    .dataframe thead th {\n",
       "        text-align: right;\n",
       "    }\n",
       "</style>\n",
       "<table border=\"1\" class=\"dataframe\">\n",
       "  <thead>\n",
       "    <tr style=\"text-align: right;\">\n",
       "      <th></th>\n",
       "      <th>sepal length (cm)</th>\n",
       "      <th>petal length (cm)</th>\n",
       "      <th>target</th>\n",
       "    </tr>\n",
       "  </thead>\n",
       "  <tbody>\n",
       "    <tr>\n",
       "      <th>0</th>\n",
       "      <td>5.1</td>\n",
       "      <td>1.4</td>\n",
       "      <td>0</td>\n",
       "    </tr>\n",
       "    <tr>\n",
       "      <th>1</th>\n",
       "      <td>4.9</td>\n",
       "      <td>1.4</td>\n",
       "      <td>0</td>\n",
       "    </tr>\n",
       "    <tr>\n",
       "      <th>2</th>\n",
       "      <td>4.7</td>\n",
       "      <td>1.3</td>\n",
       "      <td>0</td>\n",
       "    </tr>\n",
       "    <tr>\n",
       "      <th>3</th>\n",
       "      <td>4.6</td>\n",
       "      <td>1.5</td>\n",
       "      <td>0</td>\n",
       "    </tr>\n",
       "    <tr>\n",
       "      <th>4</th>\n",
       "      <td>5.0</td>\n",
       "      <td>1.4</td>\n",
       "      <td>0</td>\n",
       "    </tr>\n",
       "    <tr>\n",
       "      <th>...</th>\n",
       "      <td>...</td>\n",
       "      <td>...</td>\n",
       "      <td>...</td>\n",
       "    </tr>\n",
       "    <tr>\n",
       "      <th>95</th>\n",
       "      <td>5.7</td>\n",
       "      <td>4.2</td>\n",
       "      <td>1</td>\n",
       "    </tr>\n",
       "    <tr>\n",
       "      <th>96</th>\n",
       "      <td>5.7</td>\n",
       "      <td>4.2</td>\n",
       "      <td>1</td>\n",
       "    </tr>\n",
       "    <tr>\n",
       "      <th>97</th>\n",
       "      <td>6.2</td>\n",
       "      <td>4.3</td>\n",
       "      <td>1</td>\n",
       "    </tr>\n",
       "    <tr>\n",
       "      <th>98</th>\n",
       "      <td>5.1</td>\n",
       "      <td>3.0</td>\n",
       "      <td>1</td>\n",
       "    </tr>\n",
       "    <tr>\n",
       "      <th>99</th>\n",
       "      <td>5.7</td>\n",
       "      <td>4.1</td>\n",
       "      <td>1</td>\n",
       "    </tr>\n",
       "  </tbody>\n",
       "</table>\n",
       "<p>100 rows × 3 columns</p>\n",
       "</div>"
      ],
      "text/plain": [
       "    sepal length (cm)  petal length (cm)  target\n",
       "0                 5.1                1.4       0\n",
       "1                 4.9                1.4       0\n",
       "2                 4.7                1.3       0\n",
       "3                 4.6                1.5       0\n",
       "4                 5.0                1.4       0\n",
       "..                ...                ...     ...\n",
       "95                5.7                4.2       1\n",
       "96                5.7                4.2       1\n",
       "97                6.2                4.3       1\n",
       "98                5.1                3.0       1\n",
       "99                5.7                4.1       1\n",
       "\n",
       "[100 rows x 3 columns]"
      ]
     },
     "execution_count": 23,
     "metadata": {},
     "output_type": "execute_result"
    }
   ],
   "source": [
    "#只選擇目標為0與1的資料\n",
    "iris_data=iris_data[iris_data['target'].isin([0,1])]\n",
    "iris_data"
   ]
  },
  {
   "cell_type": "markdown",
   "metadata": {},
   "source": [
    "## 切分訓練集與測試集\n",
    "> train_test_split()"
   ]
  },
  {
   "cell_type": "code",
   "execution_count": 40,
   "metadata": {},
   "outputs": [],
   "source": [
    "from sklearn.model_selection import train_test_split\n",
    "\n",
    "X_train,X_test,Y_train,Y_test=train_test_split(iris_data[['sepal length (cm)','petal length (cm)']],iris_data['target'],test_size=0.3)"
   ]
  },
  {
   "cell_type": "code",
   "execution_count": 41,
   "metadata": {},
   "outputs": [
    {
     "data": {
      "text/plain": [
       "(70, 2)"
      ]
     },
     "execution_count": 41,
     "metadata": {},
     "output_type": "execute_result"
    }
   ],
   "source": [
    "X_train.head()\n",
    "X_train.shape"
   ]
  },
  {
   "cell_type": "code",
   "execution_count": 39,
   "metadata": {},
   "outputs": [
    {
     "data": {
      "text/plain": [
       "(30, 2)"
      ]
     },
     "execution_count": 39,
     "metadata": {},
     "output_type": "execute_result"
    }
   ],
   "source": [
    "X_test.head()\n",
    "X_test.shape"
   ]
  },
  {
   "cell_type": "code",
   "execution_count": 43,
   "metadata": {},
   "outputs": [
    {
     "data": {
      "text/plain": [
       "(70,)"
      ]
     },
     "execution_count": 43,
     "metadata": {},
     "output_type": "execute_result"
    }
   ],
   "source": [
    "Y_train.head()\n",
    "Y_train.shape"
   ]
  },
  {
   "cell_type": "markdown",
   "metadata": {},
   "source": [
    "# Appendix \n",
    "\n",
    ">normalization和standardization是差不多的<br>\n",
    "都是把數據進行前處理，從而使數值都落入到統一的數值範圍，從而在建模過程中，各個特徵量沒差別對待。<br> \n",
    "* normalization一般是把數據限定在需要的範圍，比如一般都是【0，1】，從而消除了數據量綱對建模的影響。<br> \n",
    "* standardization 一般是指將數據正態化，使平均值0方差為1.<br> \n",
    "\n",
    "因此normalization和standardization 是針對數據而言的，消除一些數值差異帶來的特種重要性偏見。<br>\n",
    "經過歸一化的數據，能加快訓練速度，促進算法的收斂。\n",
    "\n",
    "### Standardization (z-score)\n",
    "    to compute the mean and standard deviation on a training set so as to be able to later reapply the same transformation on the testing set. "
   ]
  },
  {
   "cell_type": "code",
   "execution_count": 33,
   "metadata": {},
   "outputs": [],
   "source": [
    "def norm_stats(dfs):\n",
    "    minimum = np.min(dfs)\n",
    "    maximum = np.max(dfs)\n",
    "    mu = np.mean(dfs)\n",
    "    sigma = np.std(dfs)\n",
    "    return (minimum, maximum, mu, sigma)\n",
    "\n",
    "\n",
    "def z_score(col, stats):\n",
    "    m, M, mu, s = stats\n",
    "    df = pd.DataFrame()\n",
    "    for c in col.columns:\n",
    "        df[c] = (col[c]-mu[c])/s[c]\n",
    "    return df"
   ]
  },
  {
   "cell_type": "code",
   "execution_count": 25,
   "metadata": {},
   "outputs": [
    {
     "data": {
      "text/plain": [
       "array([[-0.72966298, -0.79523439],\n",
       "       [-0.72966298, -1.07013023],\n",
       "       [ 1.27990064,  1.19776044],\n",
       "       [ 0.6100461 , -1.07013023],\n",
       "       [-0.56219935, -0.72651043]])"
      ]
     },
     "execution_count": 25,
     "metadata": {},
     "output_type": "execute_result"
    }
   ],
   "source": [
    "stats = norm_stats(X_train)\n",
    "arr_x_train = np.array(z_score(X_train, stats))\n",
    "arr_y_train = np.array(y_train)\n",
    "arr_x_train[:5]"
   ]
  },
  {
   "cell_type": "markdown",
   "metadata": {},
   "source": [
    "## use sklearn"
   ]
  },
  {
   "cell_type": "code",
   "execution_count": 26,
   "metadata": {},
   "outputs": [
    {
     "name": "stdout",
     "output_type": "stream",
     "text": [
      "[5.43571429 2.75714286]\n",
      "[0.59714457 1.4550966 ]\n"
     ]
    }
   ],
   "source": [
    "from sklearn.preprocessing import StandardScaler\n",
    "sc = StandardScaler().fit(X_train)  #Compute the statistics to be used for later scaling.\n",
    "print(sc.mean_)  #mean\n",
    "print(sc.scale_) #standard deviation"
   ]
  },
  {
   "cell_type": "code",
   "execution_count": 27,
   "metadata": {},
   "outputs": [
    {
     "data": {
      "text/plain": [
       "array([[-0.72966298, -0.79523439],\n",
       "       [-0.72966298, -1.07013023],\n",
       "       [ 1.27990064,  1.19776044],\n",
       "       [ 0.6100461 , -1.07013023],\n",
       "       [-0.56219935, -0.72651043]])"
      ]
     },
     "execution_count": 27,
     "metadata": {},
     "output_type": "execute_result"
    }
   ],
   "source": [
    "#transform: (x-u)/std.\n",
    "X_train_std = sc.transform(X_train)\n",
    "X_train_std[:5]"
   ]
  },
  {
   "cell_type": "markdown",
   "metadata": {},
   "source": [
    "The scaler instance can then be used on new data to transform it the same way it did on the training set:"
   ]
  },
  {
   "cell_type": "code",
   "execution_count": 30,
   "metadata": {},
   "outputs": [
    {
     "name": "stdout",
     "output_type": "stream",
     "text": [
      "[[-0.63038672 -1.16023591]\n",
      " [-0.07416314  0.43177178]\n",
      " [ 0.20394865 -1.16023591]\n",
      " [-0.07416314  0.50413577]\n",
      " [ 0.76017222  1.15541164]\n",
      " [-0.90849851 -1.23259989]\n",
      " [-0.63038672 -0.07477612]\n",
      " [-1.0475544  -1.08787192]\n",
      " [ 0.20394865  0.28704381]\n",
      " [-0.49133083  0.57649975]]\n"
     ]
    }
   ],
   "source": [
    "X_test_std = sc.transform(X_test)\n",
    "print(X_test_std[:10])"
   ]
  },
  {
   "cell_type": "markdown",
   "metadata": {},
   "source": [
    "you can also use fit_transform method (i.e., fit and then transform)    "
   ]
  },
  {
   "cell_type": "code",
   "execution_count": 31,
   "metadata": {},
   "outputs": [
    {
     "name": "stdout",
     "output_type": "stream",
     "text": [
      "[[-0.63038672 -1.16023591]\n",
      " [-0.07416314  0.43177178]\n",
      " [ 0.20394865 -1.16023591]\n",
      " [-0.07416314  0.50413577]\n",
      " [ 0.76017222  1.15541164]\n",
      " [-0.90849851 -1.23259989]\n",
      " [-0.63038672 -0.07477612]\n",
      " [-1.0475544  -1.08787192]\n",
      " [ 0.20394865  0.28704381]\n",
      " [-0.49133083  0.57649975]]\n"
     ]
    }
   ],
   "source": [
    "X_train_std = sc.fit_transform(X_train)  \n",
    "X_test_std = sc.fit_transform(X_test)\n",
    "print(X_test_std[:10])\n"
   ]
  },
  {
   "cell_type": "code",
   "execution_count": 32,
   "metadata": {},
   "outputs": [
    {
     "name": "stdout",
     "output_type": "stream",
     "text": [
      "mean of X_train_std: -0.0\n",
      "std of X_train_std: 1.0\n"
     ]
    }
   ],
   "source": [
    "print('mean of X_train_std:',np.round(X_train_std.mean(),4))\n",
    "print('std of X_train_std:',X_train_std.std())"
   ]
  },
  {
   "cell_type": "markdown",
   "metadata": {},
   "source": [
    "## Min-Max Normaliaztion\n",
    "    Transforms features by scaling each feature to a given range.\n",
    "    The transformation is given by:\n",
    "\n",
    "    X' = X - X.min(axis=0) / ((X.max(axis=0) - X.min(axis=0))\n",
    "    X -> N 維資料\n",
    "    \n"
   ]
  },
  {
   "cell_type": "code",
   "execution_count": 49,
   "metadata": {},
   "outputs": [
    {
     "name": "stdout",
     "output_type": "stream",
     "text": [
      "50.13068432036196\n",
      "29.528403141041146\n"
     ]
    },
    {
     "data": {
      "text/plain": [
       "array([45.32931882, 51.81346872, 52.37963848, 54.6402347 , 44.04752226,\n",
       "       54.87001629, 64.97773011, 49.91229044, 49.53848351, 37.99331765,\n",
       "       52.3606715 , 48.2790342 , 60.84611016, 53.82146109, 48.22854743,\n",
       "       43.61503321, 46.52526156, 51.16106212, 39.81572197, 47.48345266,\n",
       "       45.96570847, 48.58675489, 47.05013327, 47.05641641, 48.34655922,\n",
       "       45.5470969 , 54.22251557, 60.2404578 , 57.73035423, 50.21865447,\n",
       "       47.76989467, 45.10948545, 45.77750441, 48.91774513, 47.759599  ,\n",
       "       56.62140645, 50.19097122, 50.84593271, 48.95702346, 51.15245322,\n",
       "       49.47260721, 42.20138059, 45.51396866, 44.31030435, 59.19022937,\n",
       "       59.95414543, 41.03859775, 35.6409124 , 47.74523515, 56.80652446,\n",
       "       48.60934113, 47.52847862, 49.10022147, 57.79383216, 55.0662319 ,\n",
       "       37.19801545, 52.94935028, 51.15873148, 58.87013879, 56.90078908,\n",
       "       50.35549576, 52.85731129, 43.93787122, 47.38228113, 46.2392451 ,\n",
       "       61.58321299, 59.05401488, 53.72915513, 55.36015119, 52.0599007 ,\n",
       "       37.23311388, 50.86592308, 57.9333152 , 40.06091865, 56.10768684,\n",
       "       53.58644711, 49.57861862, 47.64125295, 43.56458692, 56.7810199 ,\n",
       "       42.38146087, 57.51083267, 46.00185729, 50.35953387, 54.56108631,\n",
       "       44.97102976, 59.41650903, 45.16823102, 35.67651413, 42.39984297,\n",
       "       54.08456183, 59.06650822, 52.81573224, 48.33852473, 57.19305133,\n",
       "       45.82362194, 48.13217537, 47.39987675, 55.76803007, 57.33384952])"
      ]
     },
     "execution_count": 49,
     "metadata": {},
     "output_type": "execute_result"
    },
    {
     "data": {
      "image/png": "[encoded data removed]",
      "text/plain": [
       "<Figure size 432x288 with 1 Axes>"
      ]
     },
     "metadata": {
      "needs_background": "light"
     },
     "output_type": "display_data"
    }
   ],
   "source": [
    "x1 = np.random.normal(50, 6, 100)  # np.random.normal(mu,sigma,size))\n",
    "y1 = np.random.normal(5, 0.5, 100)\n",
    "\n",
    "x2 = np.random.normal(30,6,100)\n",
    "y2 = np.random.normal(4,0.5,100)\n",
    "plt.scatter(x1,y1,c='b',marker='s',s=20,alpha=0.8)\n",
    "plt.scatter(x2,y2,c='r', marker='^', s=20, alpha=0.8)\n",
    "\n",
    "print(np.sum(x1)/len(x1))\n",
    "print(np.sum(x2)/len(x2))\n",
    "x1"
   ]
  },
  {
   "cell_type": "code",
   "execution_count": 79,
   "metadata": {},
   "outputs": [
    {
     "data": {
      "text/plain": [
       "array([[45.32931882],\n",
       "       [51.81346872],\n",
       "       [52.37963848],\n",
       "       [54.6402347 ],\n",
       "       [44.04752226],\n",
       "       [54.87001629],\n",
       "       [64.97773011],\n",
       "       [49.91229044],\n",
       "       [49.53848351],\n",
       "       [37.99331765],\n",
       "       [52.3606715 ],\n",
       "       [48.2790342 ],\n",
       "       [60.84611016],\n",
       "       [53.82146109],\n",
       "       [48.22854743],\n",
       "       [43.61503321],\n",
       "       [46.52526156],\n",
       "       [51.16106212],\n",
       "       [39.81572197],\n",
       "       [47.48345266],\n",
       "       [45.96570847],\n",
       "       [48.58675489],\n",
       "       [47.05013327],\n",
       "       [47.05641641],\n",
       "       [48.34655922],\n",
       "       [45.5470969 ],\n",
       "       [54.22251557],\n",
       "       [60.2404578 ],\n",
       "       [57.73035423],\n",
       "       [50.21865447],\n",
       "       [47.76989467],\n",
       "       [45.10948545],\n",
       "       [45.77750441],\n",
       "       [48.91774513],\n",
       "       [47.759599  ],\n",
       "       [56.62140645],\n",
       "       [50.19097122],\n",
       "       [50.84593271],\n",
       "       [48.95702346],\n",
       "       [51.15245322],\n",
       "       [49.47260721],\n",
       "       [42.20138059],\n",
       "       [45.51396866],\n",
       "       [44.31030435],\n",
       "       [59.19022937],\n",
       "       [59.95414543],\n",
       "       [41.03859775],\n",
       "       [35.6409124 ],\n",
       "       [47.74523515],\n",
       "       [56.80652446],\n",
       "       [48.60934113],\n",
       "       [47.52847862],\n",
       "       [49.10022147],\n",
       "       [57.79383216],\n",
       "       [55.0662319 ],\n",
       "       [37.19801545],\n",
       "       [52.94935028],\n",
       "       [51.15873148],\n",
       "       [58.87013879],\n",
       "       [56.90078908],\n",
       "       [50.35549576],\n",
       "       [52.85731129],\n",
       "       [43.93787122],\n",
       "       [47.38228113],\n",
       "       [46.2392451 ],\n",
       "       [61.58321299],\n",
       "       [59.05401488],\n",
       "       [53.72915513],\n",
       "       [55.36015119],\n",
       "       [52.0599007 ],\n",
       "       [37.23311388],\n",
       "       [50.86592308],\n",
       "       [57.9333152 ],\n",
       "       [40.06091865],\n",
       "       [56.10768684],\n",
       "       [53.58644711],\n",
       "       [49.57861862],\n",
       "       [47.64125295],\n",
       "       [43.56458692],\n",
       "       [56.7810199 ],\n",
       "       [42.38146087],\n",
       "       [57.51083267],\n",
       "       [46.00185729],\n",
       "       [50.35953387],\n",
       "       [54.56108631],\n",
       "       [44.97102976],\n",
       "       [59.41650903],\n",
       "       [45.16823102],\n",
       "       [35.67651413],\n",
       "       [42.39984297],\n",
       "       [54.08456183],\n",
       "       [59.06650822],\n",
       "       [52.81573224],\n",
       "       [48.33852473],\n",
       "       [57.19305133],\n",
       "       [45.82362194],\n",
       "       [48.13217537],\n",
       "       [47.39987675],\n",
       "       [55.76803007],\n",
       "       [57.33384952],\n",
       "       [28.48242582],\n",
       "       [32.94878402],\n",
       "       [31.01717462],\n",
       "       [39.77470151],\n",
       "       [23.36762583],\n",
       "       [32.39693029],\n",
       "       [28.79058322],\n",
       "       [33.87002318],\n",
       "       [32.18211938],\n",
       "       [24.30691633],\n",
       "       [26.11037592],\n",
       "       [23.16770658],\n",
       "       [24.92390412],\n",
       "       [30.14198727],\n",
       "       [34.61604002],\n",
       "       [28.95696117],\n",
       "       [20.35020921],\n",
       "       [26.83147941],\n",
       "       [22.95783415],\n",
       "       [29.49347373],\n",
       "       [36.95129553],\n",
       "       [31.77396764],\n",
       "       [33.13993275],\n",
       "       [26.42453541],\n",
       "       [17.32242524],\n",
       "       [25.74496574],\n",
       "       [40.51957711],\n",
       "       [28.69592757],\n",
       "       [34.01844158],\n",
       "       [30.14534573],\n",
       "       [19.19327458],\n",
       "       [28.43624092],\n",
       "       [35.63646252],\n",
       "       [31.30034603],\n",
       "       [33.98595848],\n",
       "       [28.46013   ],\n",
       "       [26.03287654],\n",
       "       [32.08229855],\n",
       "       [20.80188609],\n",
       "       [31.01050766],\n",
       "       [26.37329736],\n",
       "       [39.43226666],\n",
       "       [38.3460082 ],\n",
       "       [23.30575513],\n",
       "       [25.08597048],\n",
       "       [34.86522026],\n",
       "       [23.38311974],\n",
       "       [18.260047  ],\n",
       "       [32.61962326],\n",
       "       [41.51908683],\n",
       "       [30.90691183],\n",
       "       [30.26910928],\n",
       "       [30.43080619],\n",
       "       [20.48192826],\n",
       "       [39.22759608],\n",
       "       [41.70850761],\n",
       "       [24.85975467],\n",
       "       [28.72641158],\n",
       "       [32.27740209],\n",
       "       [33.7949206 ],\n",
       "       [36.47184853],\n",
       "       [31.0575424 ],\n",
       "       [32.33672722],\n",
       "       [20.83337878],\n",
       "       [26.77777408],\n",
       "       [36.92853703],\n",
       "       [19.07979297],\n",
       "       [20.02868176],\n",
       "       [24.04279124],\n",
       "       [35.73350675],\n",
       "       [28.0646241 ],\n",
       "       [26.04078898],\n",
       "       [20.79075295],\n",
       "       [26.53005616],\n",
       "       [29.97207422],\n",
       "       [28.49534387],\n",
       "       [35.08416088],\n",
       "       [29.70904534],\n",
       "       [28.13736638],\n",
       "       [20.3348138 ],\n",
       "       [43.38570353],\n",
       "       [22.27639744],\n",
       "       [27.50119778],\n",
       "       [33.18976319],\n",
       "       [25.34300609],\n",
       "       [35.66364717],\n",
       "       [33.54425961],\n",
       "       [28.69542724],\n",
       "       [19.25601682],\n",
       "       [27.16374032],\n",
       "       [44.65900483],\n",
       "       [19.63883982],\n",
       "       [34.3963475 ],\n",
       "       [26.62017932],\n",
       "       [28.79918545],\n",
       "       [31.45273983],\n",
       "       [30.71048263],\n",
       "       [35.559938  ],\n",
       "       [22.85109933],\n",
       "       [43.44633619]])"
      ]
     },
     "execution_count": 79,
     "metadata": {},
     "output_type": "execute_result"
    }
   ],
   "source": [
    "x_val = np.concatenate((x1,x2))\n",
    "y_val = np.concatenate((y1,y2))\n",
    "\n",
    "x_val.reshape(-1,1)"
   ]
  },
  {
   "cell_type": "code",
   "execution_count": 61,
   "metadata": {},
   "outputs": [],
   "source": [
    "def minmax_norm(X):\n",
    "    return (X - X.min(axis=0)) / ((X.max(axis=0) - X.min(axis=0)))"
   ]
  },
  {
   "cell_type": "code",
   "execution_count": 55,
   "metadata": {},
   "outputs": [
    {
     "data": {
      "text/plain": [
       "array([0.61402809, 0.49187532, 0.57138466, 0.66006178, 0.66662268,\n",
       "       0.54532256, 0.69342416, 0.60013452, 0.75535472, 0.68511102,\n",
       "       0.62126515, 0.61471323, 0.64157625, 0.596359  , 0.65680576,\n",
       "       0.93059252, 0.66333499, 0.65204736, 0.93492533, 0.52951281,\n",
       "       0.599392  , 0.70505674, 0.49139188, 0.92771311, 0.53808197,\n",
       "       0.68686122, 0.58741276, 0.80080162, 0.98662891, 0.49014024,\n",
       "       0.85472067, 0.56051988, 0.69293185, 0.67258574, 0.56497103,\n",
       "       0.40334194, 0.65729467, 0.78850115, 0.72474421, 0.58815674,\n",
       "       0.66769709, 0.56495661, 0.76588136, 0.45745092, 0.75970454,\n",
       "       0.68243263, 0.61172028, 0.63780685, 0.7074729 , 0.72860127,\n",
       "       0.74577922, 0.78213202, 0.70475776, 0.67446383, 0.58236659,\n",
       "       0.46747617, 0.61280922, 0.69366612, 0.81352974, 0.74806454,\n",
       "       0.76589127, 0.6753819 , 0.54121026, 0.78414271, 0.67703911,\n",
       "       0.6484402 , 0.59563858, 0.41758164, 0.68266579, 0.57205861,\n",
       "       0.64747687, 0.42329914, 0.60462461, 0.75408192, 0.68817114,\n",
       "       0.57753438, 0.64812554, 1.        , 0.74634984, 0.4221749 ,\n",
       "       0.48394562, 0.47098502, 0.70761464, 0.74674381, 0.48477204,\n",
       "       0.67386323, 0.71546517, 0.72572983, 0.61622186, 0.70370374,\n",
       "       0.5387241 , 0.47394065, 0.65294272, 0.72646243, 0.62787311,\n",
       "       0.59135043, 0.53563442, 0.55083434, 0.65837659, 0.62375934,\n",
       "       0.        , 0.23784061, 0.30958629, 0.24800316, 0.01509262,\n",
       "       0.17103688, 0.39852041, 0.21089208, 0.24309623, 0.26113579,\n",
       "       0.24880873, 0.27483834, 0.26014016, 0.19660133, 0.32777823,\n",
       "       0.37154881, 0.298499  , 0.38266459, 0.37486655, 0.47795037,\n",
       "       0.18224554, 0.33208753, 0.19014525, 0.37192998, 0.50895649,\n",
       "       0.115093  , 0.28915662, 0.34419679, 0.22258209, 0.33332031,\n",
       "       0.19419227, 0.16876257, 0.28956091, 0.45727015, 0.08208859,\n",
       "       0.16299247, 0.40604236, 0.23710837, 0.27254175, 0.55059774,\n",
       "       0.42451295, 0.30419924, 0.29132851, 0.18131986, 0.20760535,\n",
       "       0.39086275, 0.31237362, 0.4634888 , 0.17374589, 0.33884078,\n",
       "       0.21869387, 0.20385594, 0.0175695 , 0.228222  , 0.28725499,\n",
       "       0.23019338, 0.35704298, 0.36271688, 0.05517273, 0.27799142,\n",
       "       0.42837423, 0.32797668, 0.34116992, 0.10187195, 0.37882871,\n",
       "       0.3119565 , 0.30575547, 0.18034295, 0.24295134, 0.12568393,\n",
       "       0.45968008, 0.23894948, 0.2749713 , 0.45162447, 0.36487908,\n",
       "       0.24350789, 0.43553945, 0.14773888, 0.12971373, 0.34952017,\n",
       "       0.32225105, 0.36273443, 0.17763146, 0.38105318, 0.33647727,\n",
       "       0.25975231, 0.31722022, 0.6851206 , 0.41203383, 0.22092178,\n",
       "       0.5088392 , 0.21108123, 0.25165742, 0.47920183, 0.17449438,\n",
       "       0.41319601, 0.53373804, 0.30242368, 0.12378578, 0.21948004])"
      ]
     },
     "execution_count": 55,
     "metadata": {},
     "output_type": "execute_result"
    }
   ],
   "source": [
    "minmax_norm(x_val[:200])"
   ]
  },
  {
   "cell_type": "code",
   "execution_count": 83,
   "metadata": {
    "scrolled": false
   },
   "outputs": [
    {
     "name": "stdout",
     "output_type": "stream",
     "text": [
      "(200, 1)\n",
      "[64.97773011]\n",
      "[17.32242524]\n",
      "[[0.58769729]\n",
      " [0.72376084]\n",
      " [0.73564136]\n",
      " [0.78307776]\n",
      " [0.56080004]\n",
      " [0.7878995 ]\n",
      " [1.        ]\n",
      " [0.68386647]\n",
      " [0.6760225 ]\n",
      " [0.43375848]]\n"
     ]
    },
    {
     "data": {
      "text/plain": [
       "array([[45.32931882, 51.81346872, 52.37963848, 54.6402347 , 44.04752226],\n",
       "       [54.87001629, 64.97773011, 49.91229044, 49.53848351, 37.99331765],\n",
       "       [52.3606715 , 48.2790342 , 60.84611016, 53.82146109, 48.22854743],\n",
       "       [43.61503321, 46.52526156, 51.16106212, 39.81572197, 47.48345266],\n",
       "       [45.96570847, 48.58675489, 47.05013327, 47.05641641, 48.34655922],\n",
       "       [45.5470969 , 54.22251557, 60.2404578 , 57.73035423, 50.21865447],\n",
       "       [47.76989467, 45.10948545, 45.77750441, 48.91774513, 47.759599  ],\n",
       "       [56.62140645, 50.19097122, 50.84593271, 48.95702346, 51.15245322],\n",
       "       [49.47260721, 42.20138059, 45.51396866, 44.31030435, 59.19022937],\n",
       "       [59.95414543, 41.03859775, 35.6409124 , 47.74523515, 56.80652446],\n",
       "       [48.60934113, 47.52847862, 49.10022147, 57.79383216, 55.0662319 ],\n",
       "       [37.19801545, 52.94935028, 51.15873148, 58.87013879, 56.90078908],\n",
       "       [50.35549576, 52.85731129, 43.93787122, 47.38228113, 46.2392451 ],\n",
       "       [61.58321299, 59.05401488, 53.72915513, 55.36015119, 52.0599007 ],\n",
       "       [37.23311388, 50.86592308, 57.9333152 , 40.06091865, 56.10768684],\n",
       "       [53.58644711, 49.57861862, 47.64125295, 43.56458692, 56.7810199 ],\n",
       "       [42.38146087, 57.51083267, 46.00185729, 50.35953387, 54.56108631],\n",
       "       [44.97102976, 59.41650903, 45.16823102, 35.67651413, 42.39984297],\n",
       "       [54.08456183, 59.06650822, 52.81573224, 48.33852473, 57.19305133],\n",
       "       [45.82362194, 48.13217537, 47.39987675, 55.76803007, 57.33384952],\n",
       "       [28.48242582, 32.94878402, 31.01717462, 39.77470151, 23.36762583],\n",
       "       [32.39693029, 28.79058322, 33.87002318, 32.18211938, 24.30691633],\n",
       "       [26.11037592, 23.16770658, 24.92390412, 30.14198727, 34.61604002],\n",
       "       [28.95696117, 20.35020921, 26.83147941, 22.95783415, 29.49347373],\n",
       "       [36.95129553, 31.77396764, 33.13993275, 26.42453541, 17.32242524],\n",
       "       [25.74496574, 40.51957711, 28.69592757, 34.01844158, 30.14534573],\n",
       "       [19.19327458, 28.43624092, 35.63646252, 31.30034603, 33.98595848],\n",
       "       [28.46013   , 26.03287654, 32.08229855, 20.80188609, 31.01050766],\n",
       "       [26.37329736, 39.43226666, 38.3460082 , 23.30575513, 25.08597048],\n",
       "       [34.86522026, 23.38311974, 18.260047  , 32.61962326, 41.51908683],\n",
       "       [30.90691183, 30.26910928, 30.43080619, 20.48192826, 39.22759608],\n",
       "       [41.70850761, 24.85975467, 28.72641158, 32.27740209, 33.7949206 ],\n",
       "       [36.47184853, 31.0575424 , 32.33672722, 20.83337878, 26.77777408],\n",
       "       [36.92853703, 19.07979297, 20.02868176, 24.04279124, 35.73350675],\n",
       "       [28.0646241 , 26.04078898, 20.79075295, 26.53005616, 29.97207422],\n",
       "       [28.49534387, 35.08416088, 29.70904534, 28.13736638, 20.3348138 ],\n",
       "       [43.38570353, 22.27639744, 27.50119778, 33.18976319, 25.34300609],\n",
       "       [35.66364717, 33.54425961, 28.69542724, 19.25601682, 27.16374032],\n",
       "       [44.65900483, 19.63883982, 34.3963475 , 26.62017932, 28.79918545],\n",
       "       [31.45273983, 30.71048263, 35.559938  , 22.85109933, 43.44633619]])"
      ]
     },
     "execution_count": 83,
     "metadata": {},
     "output_type": "execute_result"
    }
   ],
   "source": [
    "from sklearn.preprocessing import MinMaxScaler\n",
    "print(x_val.shape)\n",
    "x_val=x_val.reshape(-1, 1)\n",
    "scaler = MinMaxScaler().fit(x_val)  # default range 0~1\n",
    "print(scaler.data_max_)\n",
    "print(scaler.data_min_)\n",
    "print(scaler.transform(x_val)[:10])\n",
    "\n",
    "y=scaler.transform(x_val)*(scaler.data_max_-scaler.data_min_)+scaler.data_min_\n",
    "y.reshape(-1,5)"
   ]
  },
  {
   "cell_type": "code",
   "execution_count": 39,
   "metadata": {},
   "outputs": [],
   "source": []
  },
  {
   "cell_type": "code",
   "execution_count": null,
   "metadata": {},
   "outputs": [],
   "source": []
  }
 ],
 "metadata": {
  "kernelspec": {
   "display_name": "Python 3 (ipykernel)",
   "language": "python",
   "name": "python3"
  },
  "language_info": {
   "codemirror_mode": {
    "name": "ipython",
    "version": 3
   },
   "file_extension": ".py",
   "mimetype": "text/x-python",
   "name": "python",
   "nbconvert_exporter": "python",
   "pygments_lexer": "ipython3",
   "version": "3.9.12"
  }
 },
 "nbformat": 4,
 "nbformat_minor": 2
}
